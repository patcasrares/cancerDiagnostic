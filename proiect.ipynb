{
 "cells": [
  {
   "cell_type": "code",
   "execution_count": 37,
   "id": "4f5edad2",
   "metadata": {},
   "outputs": [
    {
     "name": "stdout",
     "output_type": "stream",
     "text": [
      "[(38391, 0), (1000, 2), (890, 4), (833, 6), (743, 8), (668, 10), (589, 12), (524, 14), (443, 16), (416, 18), (443, 20), (431, 22), (390, 24), (458, 26), (450, 28), (220, 30), (175, 32), (152, 34), (193, 36), (183, 38), (169, 40), (176, 42), (170, 44), (189, 46), (167, 48), (165, 50), (166, 52), (153, 54), (155, 56), (163, 58), (162, 60), (144, 62), (199, 64), (177, 66), (158, 68), (173, 70), (151, 72), (147, 74), (355, 76), (173, 78), (157, 80), (171, 82), (154, 84), (156, 86), (148, 88), (169, 90), (149, 92), (159, 94), (177, 96), (168, 98), (162, 100), (205, 102), (190, 104), (208, 106), (186, 108), (214, 110), (225, 112), (220, 114), (220, 116), (267, 118), (310, 120), (353, 122), (404, 124), (481, 126), (525, 128), (554, 130), (621, 132), (623, 134), (672, 136), (632, 138), (611, 140), (604, 142), (608, 144), (573, 146), (590, 148), (597, 150), (591, 152), (586, 154), (572, 156), (647, 158), (638, 160), (673, 162), (650, 164), (683, 166), (662, 168), (633, 170), (656, 172), (635, 174), (585, 176), (556, 178), (521, 180), (507, 182), (519, 184), (439, 186), (477, 188), (434, 190), (520, 192), (574, 194), (665, 196), (745, 198), (779, 200), (741, 202), (732, 204), (564, 206), (506, 208), (325, 210), (257, 212), (157, 214), (97, 216), (69, 218), (43, 220), (25, 222), (23, 224), (21, 226), (20, 228), (6, 230), (14, 232), (21, 234), (37, 236), (40, 238), (36, 240), (44, 242), (42, 244), (39, 246), (52, 248), (55, 250), (87, 252), (1331, 254)]\n"
     ]
    }
   ],
   "source": [
    "from PIL import Image, ImageFilter\n",
    "  \n",
    "# opening a  image \n",
    "im = Image.open(r\"cancer/2.png\").convert(\"L\") \n",
    "  \n",
    "# getting colors \n",
    "# multiband images (RBG) \n",
    "im1 = Image.Image.getcolors(im) \n",
    "  \n",
    "print(im1) \n",
    "\n",
    "image = Image.open(r\"cancer/2.png\")\n",
    "  \n",
    "# Converting the image to greyscale, as edge detection \n",
    "# requires input image to be of mode = Greyscale (L)\n",
    "image = image.convert(\"L\")\n",
    "  \n",
    "# Detecting Edges on the Image using the argument ImageFilter.FIND_EDGES\n",
    "image = image.filter(ImageFilter.FIND_EDGES)\n",
    "  \n",
    "# Saving the Image Under the name Edge_Sample.png\n",
    "image.save(r\"cancer/Edge_Sample.png\")\n"
   ]
  },
  {
   "cell_type": "code",
   "execution_count": 38,
   "id": "75f848f3",
   "metadata": {},
   "outputs": [
    {
     "ename": "NameError",
     "evalue": "name 'imagini' is not defined",
     "output_type": "error",
     "traceback": [
      "\u001b[1;31m---------------------------------------------------------------------------\u001b[0m",
      "\u001b[1;31mNameError\u001b[0m                                 Traceback (most recent call last)",
      "\u001b[1;32m<ipython-input-38-787257e9819f>\u001b[0m in \u001b[0;36m<module>\u001b[1;34m\u001b[0m\n\u001b[1;32m----> 1\u001b[1;33m \u001b[1;32mfor\u001b[0m \u001b[0mimg\u001b[0m \u001b[1;32min\u001b[0m \u001b[0mimagini\u001b[0m\u001b[1;33m:\u001b[0m\u001b[1;33m\u001b[0m\u001b[1;33m\u001b[0m\u001b[0m\n\u001b[0m\u001b[0;32m      2\u001b[0m     \u001b[0mprint\u001b[0m\u001b[1;33m(\u001b[0m\u001b[0mimg\u001b[0m\u001b[1;33m.\u001b[0m\u001b[0msize\u001b[0m\u001b[1;33m)\u001b[0m\u001b[1;33m\u001b[0m\u001b[1;33m\u001b[0m\u001b[0m\n",
      "\u001b[1;31mNameError\u001b[0m: name 'imagini' is not defined"
     ]
    }
   ],
   "source": [
    "for img in imagini:\n",
    "    print(img.size)"
   ]
  },
  {
   "cell_type": "code",
   "execution_count": 39,
   "id": "f40d9ffb",
   "metadata": {},
   "outputs": [
    {
     "data": {
      "text/plain": [
       "True"
      ]
     },
     "execution_count": 39,
     "metadata": {},
     "output_type": "execute_result"
    }
   ],
   "source": [
    "import cv2\n",
    "import numpy as np\n",
    "\n",
    "img = cv2.imread(\"cancer/1.png\")\n",
    "red_pixels = np.argwhere(cv2.inRange(img, (0, 0, 250), (0, 0, 255)))\n",
    "for px, py in red_pixels:\n",
    "    cv2.circle(img, (py, px), 5, (0, 255, 255), 1)\n",
    "cv2.imwrite(\"cancer/out.png\", img)"
   ]
  },
  {
   "cell_type": "code",
   "execution_count": 40,
   "id": "668373cf",
   "metadata": {},
   "outputs": [],
   "source": [
    "import cv2\n",
    "import numpy as np\n",
    "\n",
    "img = cv2.imread(\"cancer/1.png\")\n",
    "red_pixels = np.argwhere(cv2.inRange(img, (0, 0, 250), (0, 0, 255)))\n",
    "for px, py in red_pixels:\n",
    "    #cv2.circle(img, (py, px), 5, (0, 255, 255), 1)\n",
    "    #roi=cv2.rectangle(img, (py-10, px+10), (py+10, px+25), (0, 255, 0), 3)\n",
    "    roi = img[px+12: px+25, py-10: py+10]\n",
    "    roi = cv2.resize(roi, (25,25), interpolation = cv2.INTER_AREA)\n",
    "    cv2.imwrite(\"cancer/fragment.png\", roi)\n",
    "    break\n"
   ]
  },
  {
   "cell_type": "code",
   "execution_count": 41,
   "id": "ce55a6b7",
   "metadata": {},
   "outputs": [],
   "source": [
    "def getFragment(img):\n",
    "    red_pixels = np.argwhere(cv2.inRange(img, (0, 0, 250), (0, 0, 255)))\n",
    "    for px, py in red_pixels:\n",
    "        #cv2.circle(img, (py, px), 5, (0, 255, 255), 1)\n",
    "        #roi=cv2.rectangle(img, (py-10, px+10), (py+10, px+25), (0, 255, 0), 3)\n",
    "        roi = img[px+10: px+25, py-18: py+16]\n",
    "        roi = cv2.resize(roi, (40,40), interpolation = cv2.INTER_AREA)\n",
    "        cv2.imwrite(\"cancer/fragment.png\", roi)\n",
    "        break\n",
    "img = cv2.imread(\"cancer/2.png\")\n",
    "getFragment(img)"
   ]
  },
  {
   "cell_type": "code",
   "execution_count": 42,
   "id": "2333e05a",
   "metadata": {},
   "outputs": [],
   "source": [
    "img = cv2.imread(\"cancer/1.png\")\n",
    "getFragment(img)"
   ]
  },
  {
   "cell_type": "code",
   "execution_count": 43,
   "id": "a4c21d8e",
   "metadata": {},
   "outputs": [
    {
     "name": "stdout",
     "output_type": "stream",
     "text": [
      "[(47, 0), (1, 3), (3, 4), (1, 12), (5, 13), (1, 18), (1, 19), (1, 22), (9, 25), (2, 27), (2, 36), (2, 45), (1, 48), (8, 49), (6, 51), (1, 55), (2, 58), (9, 63), (2, 67), (1, 70), (4, 72), (2, 73), (82, 76), (2, 86), (1, 89), (3, 91), (1, 94), (3, 95), (1, 97), (4, 99), (2, 101), (3, 103), (1, 104), (3, 105), (4, 106), (2, 107), (2, 108), (1, 110), (4, 111), (2, 112), (2, 113), (3, 115), (3, 116), (4, 117), (2, 118), (2, 120), (4, 121), (4, 122), (7, 123), (2, 124), (3, 125), (6, 126), (7, 127), (10, 128), (4, 129), (4, 130), (6, 131), (22, 132), (4, 133), (26, 134), (16, 135), (31, 136), (19, 137), (15, 138), (16, 139), (9, 140), (16, 141), (15, 142), (8, 143), (7, 144), (4, 145), (20, 146), (13, 147), (13, 148), (16, 149), (15, 150), (18, 151), (19, 152), (8, 153), (12, 154), (18, 155), (19, 156), (9, 157), (19, 158), (15, 159), (28, 160), (12, 161), (26, 162), (10, 163), (36, 164), (17, 165), (22, 166), (15, 167), (18, 168), (11, 169), (17, 170), (16, 171), (15, 172), (15, 173), (16, 174), (13, 175), (16, 176), (11, 177), (21, 178), (16, 179), (13, 180), (11, 181), (15, 182), (17, 183), (23, 184), (9, 185), (17, 186), (13, 187), (27, 188), (19, 189), (25, 190), (8, 191), (19, 192), (18, 193), (25, 194), (6, 195), (25, 196), (23, 197), (20, 198), (11, 199), (8, 200), (7, 201), (17, 202), (12, 203), (19, 204), (15, 205), (8, 206), (10, 207), (7, 208), (9, 209), (9, 210), (3, 211), (6, 212), (2, 213), (4, 214), (4, 216), (1, 217), (2, 219), (2, 220), (2, 221), (2, 223), (7, 224), (1, 225), (10, 228), (2, 230), (2, 234), (4, 236), (1, 237), (2, 242)]\n"
     ]
    }
   ],
   "source": [
    "from PIL import Image, ImageFilter\n",
    "  \n",
    "# opening a  image \n",
    "im = Image.open(r\"cancer/fragment.png\").convert(\"L\") \n",
    "  \n",
    "# getting colors \n",
    "# multiband images (RBG) \n",
    "im1 = Image.Image.getcolors(im) \n",
    "  \n",
    "print(im1) \n",
    "\n",
    "image = Image.open(r\"cancer/fragment.png\")\n",
    "  \n",
    "# Converting the image to greyscale, as edge detection \n",
    "# requires input image to be of mode = Greyscale (L)\n",
    "image = image.convert(\"L\")\n",
    "  \n",
    "# Detecting Edges on the Image using the argument ImageFilter.FIND_EDGES\n",
    "image = image.filter(ImageFilter.FIND_EDGES)\n",
    "  \n",
    "# Saving the Image Under the name Edge_Sample.png\n",
    "image.save(r\"cancer/sol.png\")"
   ]
  },
  {
   "cell_type": "code",
   "execution_count": 44,
   "id": "2a5c136a",
   "metadata": {},
   "outputs": [],
   "source": [
    "from skimage import io, filters, measure, color\n",
    "from scipy import ndimage"
   ]
  },
  {
   "cell_type": "code",
   "execution_count": 45,
   "id": "dc6a4d36",
   "metadata": {},
   "outputs": [
    {
     "name": "stdout",
     "output_type": "stream",
     "text": [
      "[[ 76 117 130 ...  49  13  76]\n",
      " [ 76 116  74 ...  17   0  76]\n",
      " [ 76  85  67 ...   0   0  76]\n",
      " ...\n",
      " [ 51 160   0 ...   0   0 139]\n",
      " [ 76 206   0 ...   0   0 140]\n",
      " [ 76  76  27 ... 136 137 140]]\n"
     ]
    },
    {
     "data": {
      "image/png": "[encoded data removed]",
      "text/plain": [
       "<Figure size 432x288 with 1 Axes>"
      ]
     },
     "metadata": {
      "needs_background": "light"
     },
     "output_type": "display_data"
    }
   ],
   "source": [
    "image_rgb = io.imread('cancer/sol.png')\n",
    "io.imshow(image_rgb)\n",
    "print(image_rgb)"
   ]
  },
  {
   "cell_type": "code",
   "execution_count": 46,
   "id": "a66f2cff",
   "metadata": {},
   "outputs": [
    {
     "data": {
      "text/plain": [
       "<matplotlib.image.AxesImage at 0x2509e7806d0>"
      ]
     },
     "execution_count": 46,
     "metadata": {},
     "output_type": "execute_result"
    },
    {
     "data": {
      "image/png": "[encoded data removed]",
      "text/plain": [
       "<Figure size 432x288 with 1 Axes>"
      ]
     },
     "metadata": {
      "needs_background": "light"
     },
     "output_type": "display_data"
    }
   ],
   "source": [
    "green_image = image_rgb\n",
    "io.imshow(green_image)"
   ]
  },
  {
   "cell_type": "code",
   "execution_count": 47,
   "id": "6eaee692",
   "metadata": {},
   "outputs": [],
   "source": [
    "green_th = filters.threshold_otsu(green_image)"
   ]
  },
  {
   "cell_type": "code",
   "execution_count": 48,
   "id": "70097a3b",
   "metadata": {},
   "outputs": [
    {
     "data": {
      "text/plain": [
       "80"
      ]
     },
     "execution_count": 48,
     "metadata": {},
     "output_type": "execute_result"
    }
   ],
   "source": [
    "green_th"
   ]
  },
  {
   "cell_type": "code",
   "execution_count": 49,
   "id": "f0c3b338",
   "metadata": {},
   "outputs": [],
   "source": [
    "green_mask = green_image > green_th"
   ]
  },
  {
   "cell_type": "code",
   "execution_count": 50,
   "id": "e4ee296b",
   "metadata": {},
   "outputs": [
    {
     "data": {
      "text/plain": [
       "dtype('bool')"
      ]
     },
     "execution_count": 50,
     "metadata": {},
     "output_type": "execute_result"
    }
   ],
   "source": [
    "green_mask.dtype"
   ]
  },
  {
   "cell_type": "code",
   "execution_count": 51,
   "id": "01fec55c",
   "metadata": {},
   "outputs": [
    {
     "data": {
      "text/plain": [
       "<matplotlib.image.AxesImage at 0x250a03755e0>"
      ]
     },
     "execution_count": 51,
     "metadata": {},
     "output_type": "execute_result"
    },
    {
     "data": {
      "image/png": "[encoded data removed]",
      "text/plain": [
       "<Figure size 432x288 with 1 Axes>"
      ]
     },
     "metadata": {
      "needs_background": "light"
     },
     "output_type": "display_data"
    }
   ],
   "source": [
    "io.imshow(green_mask)"
   ]
  },
  {
   "cell_type": "code",
   "execution_count": 52,
   "id": "9cb90d43",
   "metadata": {},
   "outputs": [
    {
     "data": {
      "text/plain": [
       "<matplotlib.image.AxesImage at 0x250a03e0640>"
      ]
     },
     "execution_count": 52,
     "metadata": {},
     "output_type": "execute_result"
    },
    {
     "data": {
      "image/png": "[encoded data removed]",
      "text/plain": [
       "<Figure size 432x288 with 1 Axes>"
      ]
     },
     "metadata": {
      "needs_background": "light"
     },
     "output_type": "display_data"
    }
   ],
   "source": [
    "labeled_mask, num_labels = ndimage.label(green_mask, structure=[[1,1,1],[1,1,1],[1,1,1]])\n",
    "io.imshow(color.label2rgb(labeled_mask, bg_label=0))"
   ]
  },
  {
   "cell_type": "code",
   "execution_count": 53,
   "id": "90845d37",
   "metadata": {},
   "outputs": [
    {
     "data": {
      "text/plain": [
       "26"
      ]
     },
     "execution_count": 53,
     "metadata": {},
     "output_type": "execute_result"
    }
   ],
   "source": [
    "num_labels"
   ]
  },
  {
   "cell_type": "code",
   "execution_count": 54,
   "id": "df02297f",
   "metadata": {},
   "outputs": [],
   "source": [
    "clusters = measure.regionprops(labeled_mask, green_image)"
   ]
  },
  {
   "cell_type": "code",
   "execution_count": 55,
   "id": "df76ccca",
   "metadata": {},
   "outputs": [
    {
     "data": {
      "text/plain": [
       "14.621320343559642"
      ]
     },
     "execution_count": 55,
     "metadata": {},
     "output_type": "execute_result"
    }
   ],
   "source": [
    "clusters[0].perimeter"
   ]
  },
  {
   "cell_type": "code",
   "execution_count": 56,
   "id": "5a0f9b16",
   "metadata": {},
   "outputs": [
    {
     "data": {
      "text/plain": [
       "18"
      ]
     },
     "execution_count": 56,
     "metadata": {},
     "output_type": "execute_result"
    }
   ],
   "source": [
    "clusters[0].area"
   ]
  },
  {
   "cell_type": "code",
   "execution_count": 57,
   "id": "ac128f06",
   "metadata": {},
   "outputs": [
    {
     "data": {
      "text/plain": [
       "(0, 1, 5, 7)"
      ]
     },
     "execution_count": 57,
     "metadata": {},
     "output_type": "execute_result"
    }
   ],
   "source": [
    "clusters[0].bbox"
   ]
  },
  {
   "cell_type": "code",
   "execution_count": 58,
   "id": "327a1cba",
   "metadata": {},
   "outputs": [
    {
     "data": {
      "text/plain": [
       "137.5"
      ]
     },
     "execution_count": 58,
     "metadata": {},
     "output_type": "execute_result"
    }
   ],
   "source": [
    "clusters[0].mean_intensity"
   ]
  },
  {
   "cell_type": "code",
   "execution_count": 59,
   "id": "07df8723",
   "metadata": {},
   "outputs": [],
   "source": [
    "import cv2\n",
    "from PIL import Image, ImageFilter\n",
    "\n",
    "from skimage import io, filters, measure, color\n",
    "from scipy import ndimage\n",
    "\n",
    "class MamoFeatures:\n",
    "    def __init__(self):\n",
    "        self.__red=0\n",
    "        self.__cols=[]\n",
    "        self.__nr=[]\n",
    "    \n",
    "    def getFragment(self,img):\n",
    "        red_pixels = np.argwhere(cv2.inRange(img, (0, 0, 250), (0, 0, 255)))\n",
    "        self.__red=len(red_pixels)*len(red_pixels)\n",
    "        for px, py in red_pixels:\n",
    "            #cv2.circle(img, (py, px), 5, (0, 255, 255), 1)\n",
    "            #roi=cv2.rectangle(img, (py-10, px+10), (py+10, px+25), (0, 255, 0), 3)\n",
    "            roi = img[px+10: px+25, py-18: py+16]\n",
    "            roi = cv2.resize(roi, (40,40), interpolation = cv2.INTER_AREA)\n",
    "            cv2.imwrite(\"cancer/fragment.png\", roi)\n",
    "            break\n",
    "        myimg=cv2.imread('cancer/fragment.png')\n",
    "        avg_color_per_row = np.average(myimg, axis=0)\n",
    "        avg_color = np.average(avg_color_per_row, axis=0)\n",
    "        self.__cols = avg_color\n",
    "        \n",
    "        im=Image.open('cancer/fragment.png')\n",
    "        \n",
    "        new_image = im\n",
    "        image_sequence = new_image.getdata()\n",
    "        image_array = np.array(image_sequence)\n",
    "        numericRep = []\n",
    "        cnt=0\n",
    "        for data in image_array:\n",
    "            cnt+=1\n",
    "            if cnt==10:\n",
    "                break\n",
    "            #print(data)\n",
    "            numericRep.append(str((data[0] + data[1] + data[2]) /6))\n",
    "        self.__nr = numericRep\n",
    "            \n",
    "    def getChist(self):\n",
    "        # opening a  image \n",
    "        im = Image.open(r\"cancer/fragment.png\").convert(\"L\") \n",
    "\n",
    "        # getting colors \n",
    "        # multiband images (RBG) \n",
    "        im1 = Image.Image.getcolors(im) \n",
    "\n",
    "        image = Image.open(r\"cancer/fragment.png\")\n",
    "\n",
    "        # Converting the image to greyscale, as edge detection \n",
    "        # requires input image to be of mode = Greyscale (L)\n",
    "        image = image.convert(\"L\")\n",
    "\n",
    "        # Detecting Edges on the Image using the argument ImageFilter.FIND_EDGES\n",
    "        image = image.filter(ImageFilter.FIND_EDGES)\n",
    "\n",
    "        # Saving the Image Under the name Edge_Sample.png\n",
    "        image.save(r\"cancer/sol.png\")\n",
    "        \n",
    "    def analize(self):\n",
    "        image_rgb = io.imread('cancer/sol.png')\n",
    "        \n",
    "        green_image = image_rgb\n",
    "        green_th = filters.threshold_otsu(green_image)\n",
    "        green_mask = green_image > green_th\n",
    "        labeled_mask, num_labels = ndimage.label(green_mask, structure=[[1,1,1],[1,1,1],[1,1,1]])\n",
    "        clusters = measure.regionprops(labeled_mask, green_image)\n",
    "        \n",
    "        ret=[]\n",
    "        ret.append(num_labels/100)\n",
    "        \n",
    "        sm=0\n",
    "        for i in range(len(clusters)):\n",
    "            sm+=clusters[i].perimeter\n",
    "        sm/=len(clusters)\n",
    "        ret.append(sm)\n",
    "        #print(sm)\n",
    "        \n",
    "        \n",
    "        sm=0\n",
    "        for i in range(len(clusters)):\n",
    "            sm+=clusters[i].area\n",
    "        sm/=len(clusters)\n",
    "        ret.append(sm)\n",
    "        #print(sm)\n",
    "        \n",
    "        sm=0\n",
    "        for i in range(len(clusters)):\n",
    "            sm+=clusters[i].mean_intensity\n",
    "        sm/=len(clusters)\n",
    "        ret.append(sm)\n",
    "        #print(sm)\n",
    "        \n",
    "        \n",
    "        sm=0\n",
    "        for i in range(len(clusters)):\n",
    "            sm+=clusters[i].mean_intensity\n",
    "        sm/=len(clusters)\n",
    "        ret.append(sm)\n",
    "        #print(sm)\n",
    "        \n",
    "        sm=0\n",
    "        for i in range(len(clusters)):\n",
    "            sm+=clusters[0].bbox[0]\n",
    "        sm/=len(clusters)\n",
    "        ret.append(sm)\n",
    "        #print(sm)\n",
    "        \n",
    "        sm=0\n",
    "        for i in range(len(clusters)):\n",
    "            sm+=clusters[0].bbox[1]\n",
    "        sm/=len(clusters)\n",
    "        ret.append(sm)\n",
    "        #print(sm)\n",
    "        \n",
    "        sm=0\n",
    "        for i in range(len(clusters)):\n",
    "            sm+=clusters[0].bbox[2]\n",
    "        sm/=len(clusters)\n",
    "        ret.append(sm)\n",
    "        #print(sm)\n",
    "        \n",
    "        sm=0\n",
    "        for i in range(len(clusters)):\n",
    "            sm+=clusters[0].bbox[3]\n",
    "        sm/=len(clusters)\n",
    "        ret.append(sm)\n",
    "        #print(sm)\n",
    "        \n",
    "        \n",
    "        #return [clusters[0].perimeter,num_labels]\n",
    "        #print(\"red \",self.__red)\n",
    "        ret.append(self.__red/1000)\n",
    "        \n",
    "        ret.append(self.__cols[0])\n",
    "        ret.append(self.__cols[1])\n",
    "        ret.append(self.__cols[2])\n",
    "        \n",
    "        for i in self.__nr:\n",
    "            ret.append(i)\n",
    "            \n",
    "        for i in range(len(ret)):\n",
    "            ret[i]=float(ret[i])\n",
    "        return ret\n",
    "    \n",
    "    def getResults(self,cale):\n",
    "        img = cv2.imread(cale)\n",
    "        self.getFragment(img)\n",
    "        self.getChist()\n",
    "        \n",
    "        return self.analize()\n",
    "        \n",
    "        "
   ]
  },
  {
   "cell_type": "code",
   "execution_count": 60,
   "id": "efccca01",
   "metadata": {},
   "outputs": [
    {
     "name": "stdout",
     "output_type": "stream",
     "text": [
      "[0.26, 6.143381617744533, 7.384615384615385, 135.80049180750535, 135.80049180750535, 0.0, 1.0, 5.0, 7.0, 131.769, 146.099375, 146.099375, 170.098125, 42.5, 59.5, 65.0, 68.0, 62.0, 42.5, 42.5, 2.5, 0.0]\n"
     ]
    }
   ],
   "source": [
    "cls = MamoFeatures()\n",
    "print(cls.getResults(\"cancer/1.png\"))"
   ]
  },
  {
   "cell_type": "code",
   "execution_count": 61,
   "id": "1d2c62dc",
   "metadata": {},
   "outputs": [
    {
     "name": "stdout",
     "output_type": "stream",
     "text": [
      "0\n",
      "1\n",
      "2\n",
      "4\n",
      "5\n",
      "6\n",
      "7\n",
      "8\n",
      "10\n",
      "11\n",
      "12\n",
      "13\n",
      "14\n",
      "15\n",
      "16\n",
      "17\n",
      "18\n",
      "19\n",
      "20\n",
      "21\n",
      "22\n",
      "23\n",
      "24\n",
      "25\n",
      "26\n",
      "27\n",
      "29\n",
      "31\n",
      "32\n",
      "33\n",
      "\n",
      "30\n",
      "\n",
      "0\n",
      "1\n",
      "2\n",
      "3\n",
      "4\n",
      "5\n",
      "6\n",
      "7\n",
      "8\n",
      "9\n",
      "10\n",
      "11\n",
      "12\n",
      "13\n",
      "14\n",
      "15\n",
      "16\n",
      "17\n",
      "18\n",
      "19\n",
      "20\n",
      "21\n",
      "22\n",
      "23\n",
      "24\n",
      "25\n",
      "26\n",
      "27\n",
      "53\n",
      "[1, 1, 1, 1, 1, 1, 1, 1, 1, 1, 1, 1, 1, 1, 1, 1, 1, 1, 1, 1, 1, 1, 1, 1, 1, 1, 1, 1, 1, 1, 0, 0, 0, 0, 0, 0, 0, 0, 0, 0, 0, 0, 0, 0, 0, 0, 0, 0, 0, 0, 0, 0, 0]\n"
     ]
    }
   ],
   "source": [
    "nrM=35\n",
    "nrB=28\n",
    "inputs=[]\n",
    "for i in range(nrM):\n",
    "    if i==3 or i==9 or i==28 or i==30 or i==34:\n",
    "        continue\n",
    "    print(i)\n",
    "    cale=\"cancer/\"+str(i+1)+\".png\"\n",
    "    inputs.append(cls.getResults(cale))\n",
    "nrM-=5\n",
    "print('')\n",
    "print(len(inputs))\n",
    "print('')\n",
    "    \n",
    "for i in range(nrB):\n",
    "    print(i)\n",
    "    if i==2 or i==16 or i==19 or i==22 or i==25:\n",
    "        continue\n",
    "    cale=\"cancer/ben\"+str(i+1)+\".png\"\n",
    "    inputs.append(cls.getResults(cale))\n",
    "    \n",
    "nrB-=5\n",
    "\n",
    "outputs=[]\n",
    "for i in range(nrM):\n",
    "    outputs.append(1)\n",
    "\n",
    "for i in range(nrB):\n",
    "    outputs.append(0)\n",
    "    \n",
    "print(len(inputs))\n",
    "\n",
    "#print(inputs)\n",
    "print(outputs)"
   ]
  },
  {
   "cell_type": "code",
   "execution_count": 62,
   "id": "f343475c",
   "metadata": {},
   "outputs": [
    {
     "name": "stdout",
     "output_type": "stream",
     "text": [
      "[22, 10, 18, 24, 15, 9, 13, 8, 29, 11, 4, 23, 16, 26, 28, 21, 12, 3, 19, 7, 2, 1, 6, 17, 20]\n",
      "[52 41 33 46 36 37 49 51 30 32 50 39 47 45 35 31 42 43 48]\n",
      "53\n"
     ]
    }
   ],
   "source": [
    "from random import seed\n",
    "\n",
    "seed(1)\n",
    "indexes = [i for i in range(nrM)]\n",
    "trainSample = np.random.choice(indexes, int(0.85 * nrM), replace = False)\n",
    "\n",
    "indexes = [i for i in range(nrM,nrM+nrB)]\n",
    "trainSample2 = np.random.choice(indexes, int(0.85 * nrB), replace = False)\n",
    "\n",
    "indexes = [i for i in range(len(inputs))]\n",
    "\n",
    "\n",
    "\n",
    "'''indexes = [i for i in range(len(inputs))]\n",
    "trainSample = np.random.choice(indexes, int(0.8 * nrM), replace = False)\n",
    "'''\n",
    "\n",
    "\n",
    "trainSample=trainSample.tolist()\n",
    "print(trainSample)\n",
    "print(trainSample2)\n",
    "\n",
    "for vl in trainSample2:\n",
    "    trainSample.append(vl)\n",
    "\n",
    "validationSample = [i for i in indexes  if not i in trainSample]\n",
    "\n",
    "trainInputs = [inputs[i] for i in trainSample]\n",
    "trainOutputs = [outputs[i] for i in trainSample]\n",
    "\n",
    "validationInputs = [inputs[i] for i in validationSample]\n",
    "validationOutputs = [outputs[i] for i in validationSample]\n",
    "\n",
    "X_train = trainInputs\n",
    "Y_train = trainOutputs\n",
    "\n",
    "X_test = validationInputs\n",
    "Y_test = validationOutputs\n",
    "print(len(inputs))\n",
    "\n",
    "#X_test = inputs\n",
    "#Y_test = outputs"
   ]
  },
  {
   "cell_type": "code",
   "execution_count": 63,
   "id": "272430de",
   "metadata": {},
   "outputs": [
    {
     "name": "stdout",
     "output_type": "stream",
     "text": [
      "0.7777777777777778\n",
      "53\n",
      "53\n",
      "[1, 1, 1, 1, 1, 0, 0, 0, 0]\n",
      "[1 1 1 1 1 0 1 1 0]\n"
     ]
    }
   ],
   "source": [
    "import numpy as np\n",
    "import matplotlib.pyplot as plt\n",
    "import pandas as pd\n",
    "from sklearn.metrics import accuracy_score\n",
    "\n",
    "#Fitting Random Forest Classification Algorithm\n",
    "from sklearn.ensemble import RandomForestClassifier\n",
    "classifier = RandomForestClassifier(n_estimators = 10, criterion = 'entropy', random_state = 0)\n",
    "classifier.fit(X_train, Y_train)\n",
    "Y_pred = classifier.predict(X_test)\n",
    "print(accuracy_score(Y_test, Y_pred))\n",
    "\n",
    "print(len(inputs))\n",
    "print(len(outputs))\n",
    "print(Y_test)\n",
    "print(Y_pred)"
   ]
  },
  {
   "cell_type": "code",
   "execution_count": 64,
   "id": "f20c3c22",
   "metadata": {},
   "outputs": [],
   "source": [
    "def impart():\n",
    "    seed(10)\n",
    "    indexes = [i for i in range(nrM)]\n",
    "    trainSample = np.random.choice(indexes, int(0.8 * nrM), replace = False)\n",
    "\n",
    "    indexes = [i for i in range(nrM,nrM+nrB)]\n",
    "    trainSample2 = np.random.choice(indexes, int(0.8 * nrB), replace = False)\n",
    "\n",
    "    indexes = [i for i in range(len(inputs))]\n",
    "    '''indexes = [i for i in range(len(inputs))]\n",
    "    trainSample = np.random.choice(indexes, int(0.8 * nrM), replace = False)\n",
    "    '''\n",
    "\n",
    "\n",
    "    trainSample=trainSample.tolist()\n",
    "    #print(trainSample)\n",
    "    #print(trainSample2)\n",
    "\n",
    "    for vl in trainSample2:\n",
    "        trainSample.append(vl)\n",
    "\n",
    "    validationSample = [i for i in indexes  if not i in trainSample]\n",
    "\n",
    "    trainInputs = [inputs[i] for i in trainSample]\n",
    "    trainOutputs = [outputs[i] for i in trainSample]\n",
    "\n",
    "    validationInputs = [inputs[i] for i in validationSample]\n",
    "    validationOutputs = [outputs[i] for i in validationSample]\n",
    "\n",
    "    X_train = trainInputs\n",
    "    Y_train = trainOutputs\n",
    "\n",
    "    X_test = validationInputs\n",
    "    Y_test = validationOutputs"
   ]
  },
  {
   "cell_type": "code",
   "execution_count": 65,
   "id": "5f84c547",
   "metadata": {},
   "outputs": [],
   "source": [
    "from random import seed\n",
    "import numpy as np\n",
    "import matplotlib.pyplot as plt\n",
    "import pandas as pd\n",
    "from sklearn.metrics import accuracy_score\n",
    "\n",
    "from sklearn.svm import SVC\n",
    "\n",
    "#Fitting Random Forest Classification Algorithm\n",
    "from sklearn.ensemble import RandomForestClassifier\n",
    "def testez():\n",
    "    \n",
    "    impart()\n",
    "    #Fitting Random Forest Classification Algorithm\n",
    "    classifier = RandomForestClassifier(n_estimators = 10, criterion = 'entropy', random_state = 0)\n",
    "    classifier.fit(X_train, Y_train)\n",
    "    Y_pred = classifier.predict(X_test)\n",
    "    nr=accuracy_score(Y_test, Y_pred)\n",
    "    print(nr)\n",
    "    \n",
    "    ma=nr\n",
    "    \n",
    "    \n",
    "    #95.8 Acuracy\n",
    "\n",
    " \n",
    "\n",
    "    impart()\n",
    "    #Fitting K-NN Algorithm\n",
    "    from sklearn.neighbors import KNeighborsClassifier\n",
    "    classifier = KNeighborsClassifier(n_neighbors = 5, metric = 'minkowski', p = 2)\n",
    "    classifier.fit(X_train, Y_train)\n",
    "    Y_pred = classifier.predict(X_test)\n",
    "    nr=accuracy_score(Y_test, Y_pred)\n",
    "    print(nr)\n",
    "    \n",
    "    ma=max(ma,nr)\n",
    "    \n",
    "    \n",
    "    impart()\n",
    "    #Fitting Naive_Bayes\n",
    "    from sklearn.naive_bayes import GaussianNB\n",
    "    classifier = GaussianNB()\n",
    "    classifier.fit(X_train, Y_train)\n",
    "    Y_pred = classifier.predict(X_test)\n",
    "    nr=accuracy_score(Y_test, Y_pred)\n",
    "    print(nr)\n",
    "\n",
    "\n",
    "\n",
    "        \n",
    "    ma=max(ma,nr)\n",
    "        \n",
    "        \n",
    "    impart()\n",
    "    #Fitting K-SVM\n",
    "    #from sklearn.svm import SVC\n",
    "    classifier = SVC(kernel = 'rbf', random_state = 0)\n",
    "    classifier.fit(X_train, Y_train)\n",
    "    Y_pred = classifier.predict(X_test)\n",
    "    nr=accuracy_score(Y_test, Y_pred)\n",
    "    print(nr)\n",
    "        \n",
    "    ma=max(ma,nr)\n",
    "    \n",
    "    \n",
    "    impart()\n",
    "    #Fitting Decision Tree Algorithm\n",
    "    from sklearn.tree import DecisionTreeClassifier\n",
    "    classifier = DecisionTreeClassifier(criterion = 'entropy', random_state = 0)\n",
    "    classifier.fit(X_train, Y_train)\n",
    "    Y_pred = classifier.predict(X_test)\n",
    "    nr=accuracy_score(Y_test, Y_pred)\n",
    "    print(nr)\n",
    "    ma=max(ma,nr)\n",
    "    \n",
    "    \n",
    "    impart()\n",
    "    #Fitting SVM\n",
    "    from sklearn.svm import SVC as SV\n",
    "    classifier = SV(kernel = 'linear', random_state = 0)\n",
    "    classifier.fit(X_train, Y_train) \n",
    "    Y_pred = classifier.predict(X_test)\n",
    "    nr=accuracy_score(Y_test, Y_pred)\n",
    "    print(nr)\n",
    "    \n",
    "    ma=max(ma,nr)\n",
    "    \n",
    "    print('')\n",
    "    return ma\n",
    "\n",
    "    #print(len(inputs))\n",
    "    #print(len(outputs))\n",
    "    #print(Y_test)\n",
    "    #print(Y_pred)\n",
    "\n",
    "    #X_test = inputs\n",
    "    #Y_test = outputs"
   ]
  },
  {
   "cell_type": "code",
   "execution_count": 66,
   "id": "c9d2d012",
   "metadata": {},
   "outputs": [
    {
     "name": "stdout",
     "output_type": "stream",
     "text": [
      "0.7777777777777778\n",
      "0.6666666666666666\n",
      "0.3333333333333333\n",
      "0.5555555555555556\n",
      "0.7777777777777778\n",
      "0.6666666666666666\n",
      "\n",
      "0.7777777777777778\n",
      "0.6666666666666666\n",
      "0.3333333333333333\n",
      "0.5555555555555556\n",
      "0.7777777777777778\n",
      "0.6666666666666666\n",
      "\n",
      "0.7777777777777778\n",
      "0.6666666666666666\n",
      "0.3333333333333333\n",
      "0.5555555555555556\n",
      "0.7777777777777778\n",
      "0.6666666666666666\n",
      "\n",
      "0.7777777777777778\n",
      "0.6666666666666666\n",
      "0.3333333333333333\n",
      "0.5555555555555556\n",
      "0.7777777777777778\n",
      "0.6666666666666666\n",
      "\n",
      "0.7777777777777778\n",
      "0.6666666666666666\n",
      "0.3333333333333333\n",
      "0.5555555555555556\n",
      "0.7777777777777778\n",
      "0.6666666666666666\n",
      "\n",
      "0.7777777777777778\n",
      "0.6666666666666666\n",
      "0.3333333333333333\n",
      "0.5555555555555556\n",
      "0.7777777777777778\n",
      "0.6666666666666666\n",
      "\n",
      "0.7777777777777778\n",
      "0.6666666666666666\n",
      "0.3333333333333333\n",
      "0.5555555555555556\n",
      "0.7777777777777778\n",
      "0.6666666666666666\n",
      "\n",
      "0.7777777777777778\n",
      "0.6666666666666666\n",
      "0.3333333333333333\n",
      "0.5555555555555556\n",
      "0.7777777777777778\n",
      "0.6666666666666666\n",
      "\n",
      "0.7777777777777778\n",
      "0.6666666666666666\n",
      "0.3333333333333333\n",
      "0.5555555555555556\n",
      "0.7777777777777778\n",
      "0.6666666666666666\n",
      "\n",
      "0.7777777777777778\n",
      "0.6666666666666666\n",
      "0.3333333333333333\n",
      "0.5555555555555556\n",
      "0.7777777777777778\n",
      "0.6666666666666666\n",
      "\n",
      "0.7777777777777778\n",
      "0.6666666666666666\n",
      "0.3333333333333333\n",
      "0.5555555555555556\n",
      "0.7777777777777778\n",
      "0.6666666666666666\n",
      "\n",
      "0.7777777777777778\n",
      "0.6666666666666666\n",
      "0.3333333333333333\n",
      "0.5555555555555556\n",
      "0.7777777777777778\n",
      "0.6666666666666666\n",
      "\n",
      "0.7777777777777778\n",
      "0.6666666666666666\n",
      "0.3333333333333333\n",
      "0.5555555555555556\n",
      "0.7777777777777778\n",
      "0.6666666666666666\n",
      "\n",
      "0.7777777777777778\n",
      "0.6666666666666666\n",
      "0.3333333333333333\n",
      "0.5555555555555556\n",
      "0.7777777777777778\n",
      "0.6666666666666666\n",
      "\n",
      "0.7777777777777778\n",
      "0.6666666666666666\n",
      "0.3333333333333333\n",
      "0.5555555555555556\n",
      "0.7777777777777778\n",
      "0.6666666666666666\n",
      "\n",
      "0.7777777777777778\n",
      "0.6666666666666666\n",
      "0.3333333333333333\n",
      "0.5555555555555556\n",
      "0.7777777777777778\n",
      "0.6666666666666666\n",
      "\n",
      "0.7777777777777778\n",
      "0.6666666666666666\n",
      "0.3333333333333333\n",
      "0.5555555555555556\n",
      "0.7777777777777778\n",
      "0.6666666666666666\n",
      "\n",
      "0.7777777777777778\n",
      "0.6666666666666666\n",
      "0.3333333333333333\n",
      "0.5555555555555556\n",
      "0.7777777777777778\n",
      "0.6666666666666666\n",
      "\n",
      "0.7777777777777778\n",
      "0.6666666666666666\n",
      "0.3333333333333333\n",
      "0.5555555555555556\n",
      "0.7777777777777778\n",
      "0.6666666666666666\n",
      "\n",
      "0.7777777777777778\n",
      "0.6666666666666666\n",
      "0.3333333333333333\n",
      "0.5555555555555556\n",
      "0.7777777777777778\n",
      "0.6666666666666666\n",
      "\n",
      "0.7777777777777778\n",
      "0.6666666666666666\n",
      "0.3333333333333333\n",
      "0.5555555555555556\n",
      "0.7777777777777778\n",
      "0.6666666666666666\n",
      "\n",
      "0.7777777777777778\n",
      "0.6666666666666666\n",
      "0.3333333333333333\n",
      "0.5555555555555556\n",
      "0.7777777777777778\n",
      "0.6666666666666666\n",
      "\n",
      "0.7777777777777778\n",
      "0.6666666666666666\n",
      "0.3333333333333333\n",
      "0.5555555555555556\n",
      "0.7777777777777778\n",
      "0.6666666666666666\n",
      "\n",
      "0.7777777777777778\n",
      "0.6666666666666666\n",
      "0.3333333333333333\n",
      "0.5555555555555556\n",
      "0.7777777777777778\n",
      "0.6666666666666666\n",
      "\n",
      "0.7777777777777778\n",
      "0.6666666666666666\n",
      "0.3333333333333333\n",
      "0.5555555555555556\n",
      "0.7777777777777778\n",
      "0.6666666666666666\n",
      "\n",
      "0.7777777777777778\n",
      "0.6666666666666666\n",
      "0.3333333333333333\n",
      "0.5555555555555556\n",
      "0.7777777777777778\n",
      "0.6666666666666666\n",
      "\n",
      "0.7777777777777778\n",
      "0.6666666666666666\n",
      "0.3333333333333333\n",
      "0.5555555555555556\n",
      "0.7777777777777778\n",
      "0.6666666666666666\n",
      "\n",
      "0.7777777777777778\n",
      "0.6666666666666666\n",
      "0.3333333333333333\n",
      "0.5555555555555556\n",
      "0.7777777777777778\n",
      "0.6666666666666666\n",
      "\n",
      "0.7777777777777778\n",
      "0.6666666666666666\n",
      "0.3333333333333333\n",
      "0.5555555555555556\n",
      "0.7777777777777778\n",
      "0.6666666666666666\n",
      "\n",
      "0.7777777777777778\n",
      "0.6666666666666666\n",
      "0.3333333333333333\n",
      "0.5555555555555556\n",
      "0.7777777777777778\n",
      "0.6666666666666666\n",
      "\n",
      "0.7777777777777778\n",
      "0.6666666666666666\n",
      "0.3333333333333333\n",
      "0.5555555555555556\n",
      "0.7777777777777778\n",
      "0.6666666666666666\n",
      "\n",
      "0.7777777777777778\n",
      "0.6666666666666666\n",
      "0.3333333333333333\n",
      "0.5555555555555556\n",
      "0.7777777777777778\n",
      "0.6666666666666666\n",
      "\n",
      "0.7777777777777778\n",
      "0.6666666666666666\n",
      "0.3333333333333333\n",
      "0.5555555555555556\n",
      "0.7777777777777778\n",
      "0.6666666666666666\n",
      "\n",
      "0.7777777777777778\n",
      "0.6666666666666666\n",
      "0.3333333333333333\n",
      "0.5555555555555556\n",
      "0.7777777777777778\n",
      "0.6666666666666666\n",
      "\n",
      "0.7777777777777778\n",
      "0.6666666666666666\n",
      "0.3333333333333333\n",
      "0.5555555555555556\n",
      "0.7777777777777778\n",
      "0.6666666666666666\n",
      "\n",
      "0.7777777777777778\n",
      "0.6666666666666666\n",
      "0.3333333333333333\n",
      "0.5555555555555556\n",
      "0.7777777777777778\n",
      "0.6666666666666666\n",
      "\n",
      "0.7777777777777778\n",
      "0.6666666666666666\n",
      "0.3333333333333333\n",
      "0.5555555555555556\n",
      "0.7777777777777778\n",
      "0.6666666666666666\n",
      "\n",
      "0.7777777777777778\n",
      "0.6666666666666666\n",
      "0.3333333333333333\n",
      "0.5555555555555556\n",
      "0.7777777777777778\n",
      "0.6666666666666666\n",
      "\n",
      "0.7777777777777778\n",
      "0.6666666666666666\n",
      "0.3333333333333333\n",
      "0.5555555555555556\n",
      "0.7777777777777778\n",
      "0.6666666666666666\n",
      "\n",
      "0.7777777777777778\n",
      "0.6666666666666666\n",
      "0.3333333333333333\n",
      "0.5555555555555556\n",
      "0.7777777777777778\n",
      "0.6666666666666666\n",
      "\n",
      "0.7777777777777778\n",
      "0.6666666666666666\n",
      "0.3333333333333333\n",
      "0.5555555555555556\n",
      "0.7777777777777778\n",
      "0.6666666666666666\n",
      "\n",
      "0.7777777777777778\n",
      "0.6666666666666666\n",
      "0.3333333333333333\n",
      "0.5555555555555556\n",
      "0.7777777777777778\n",
      "0.6666666666666666\n",
      "\n",
      "0.7777777777777778\n",
      "0.6666666666666666\n",
      "0.3333333333333333\n",
      "0.5555555555555556\n",
      "0.7777777777777778\n",
      "0.6666666666666666\n",
      "\n",
      "0.7777777777777778\n",
      "0.6666666666666666\n",
      "0.3333333333333333\n",
      "0.5555555555555556\n",
      "0.7777777777777778\n",
      "0.6666666666666666\n",
      "\n",
      "0.7777777777777778\n",
      "0.6666666666666666\n",
      "0.3333333333333333\n",
      "0.5555555555555556\n",
      "0.7777777777777778\n",
      "0.6666666666666666\n",
      "\n",
      "0.7777777777777778\n",
      "0.6666666666666666\n",
      "0.3333333333333333\n",
      "0.5555555555555556\n",
      "0.7777777777777778\n",
      "0.6666666666666666\n",
      "\n",
      "0.7777777777777778\n",
      "0.6666666666666666\n",
      "0.3333333333333333\n",
      "0.5555555555555556\n",
      "0.7777777777777778\n",
      "0.6666666666666666\n",
      "\n",
      "0.7777777777777778\n",
      "0.6666666666666666\n",
      "0.3333333333333333\n",
      "0.5555555555555556\n",
      "0.7777777777777778\n",
      "0.6666666666666666\n",
      "\n",
      "0.7777777777777778\n",
      "0.6666666666666666\n",
      "0.3333333333333333\n",
      "0.5555555555555556\n",
      "0.7777777777777778\n",
      "0.6666666666666666\n",
      "\n",
      "0.7777777777777778\n",
      "0.6666666666666666\n",
      "0.3333333333333333\n",
      "0.5555555555555556\n",
      "0.7777777777777778\n",
      "0.6666666666666666\n",
      "\n",
      "mean rsp: 0.7777777777777782\n"
     ]
    }
   ],
   "source": [
    "tst=0\n",
    "seed(10)\n",
    "for i in range(50):\n",
    "    tst+=testez()\n",
    "tst/=50\n",
    "print('mean rsp:',tst)"
   ]
  },
  {
   "cell_type": "code",
   "execution_count": 67,
   "id": "dec390b8",
   "metadata": {},
   "outputs": [
    {
     "name": "stdout",
     "output_type": "stream",
     "text": [
      "0.6666666666666666\n"
     ]
    }
   ],
   "source": [
    "impart()\n",
    "#Fitting SVM\n",
    "from sklearn.svm import SVC as SV\n",
    "classifier = SV(kernel = 'linear', random_state = 0)\n",
    "classifier.fit(X_train, Y_train) \n",
    "Y_pred = classifier.predict(X_test)\n",
    "nr=accuracy_score(Y_test, Y_pred)\n",
    "print(nr)"
   ]
  },
  {
   "cell_type": "code",
   "execution_count": 68,
   "id": "f5e58eec",
   "metadata": {},
   "outputs": [
    {
     "name": "stdout",
     "output_type": "stream",
     "text": [
      "[0]\n"
     ]
    }
   ],
   "source": [
    "\n",
    "impart()\n",
    "#Fitting Decision Tree Algorithm\n",
    "from sklearn.tree import DecisionTreeClassifier\n",
    "classifier = DecisionTreeClassifier(criterion = 'entropy', random_state = 0)\n",
    "classifier.fit(X_train, Y_train)\n",
    "rsp = classifier.predict([cls.getResults(\"userUploads/pic.jpg\")])\n",
    "print(rsp)"
   ]
  },
  {
   "cell_type": "code",
   "execution_count": null,
   "id": "cec28922",
   "metadata": {},
   "outputs": [
    {
     "name": "stdout",
     "output_type": "stream",
     "text": [
      " * Serving Flask app '__main__' (lazy loading)\n",
      " * Environment: production\n",
      "   WARNING: This is a development server. Do not use it in a production deployment.\n",
      "   Use a production WSGI server instead.\n",
      " * Debug mode: off\n"
     ]
    },
    {
     "name": "stderr",
     "output_type": "stream",
     "text": [
      " * Running on http://127.0.0.1:5000/ (Press CTRL+C to quit)\n",
      "127.0.0.1 - - [02/Aug/2021 00:24:16] \"GET / HTTP/1.1\" 200 -\n",
      "127.0.0.1 - - [02/Aug/2021 00:25:23] \"POST /upload HTTP/1.1\" 200 -\n"
     ]
    }
   ],
   "source": [
    "from flask import Flask, request\n",
    "from werkzeug.utils import secure_filename\n",
    "from flask import render_template\n",
    "\n",
    "import os\n",
    "\n",
    "crtDir =  os.getcwd()\n",
    "fileName = os.path.join(crtDir, 'userUploads', 'pic.jpg')\n",
    "\n",
    "app = Flask(__name__)\n",
    "\n",
    "@app.route('/')\n",
    "def hello_world():\n",
    "    return render_template(\"diagnostic.html\")\n",
    "\n",
    "@app.route('/upload', methods=[\"POST\", \"GET\"])\n",
    "def upload():\n",
    "    pic = request.files['pic']\n",
    "    if not pic:\n",
    "        return \"No pic uploaded\", 400\n",
    "    filename = secure_filename(pic.filename)\n",
    "    mimetype = pic.mimetype\n",
    "    open(fileName, 'wb').write(pic.read())\n",
    "    rsp = classifier.predict([cls.getResults(\"userUploads/pic.jpg\")])\n",
    "    if rsp == 0:\n",
    "        return render_template(\"benign.html\")\n",
    "    else:\n",
    "        return render_template(\"malign.html\")\n",
    "    \n",
    "if __name__ == '__main__':\n",
    "    app.run()"
   ]
  },
  {
   "cell_type": "code",
   "execution_count": null,
   "id": "47d39c4f",
   "metadata": {},
   "outputs": [],
   "source": []
  },
  {
   "cell_type": "code",
   "execution_count": null,
   "id": "eb80bb99",
   "metadata": {},
   "outputs": [],
   "source": []
  },
  {
   "cell_type": "code",
   "execution_count": null,
   "id": "7af4ddf6",
   "metadata": {},
   "outputs": [],
   "source": []
  },
  {
   "cell_type": "code",
   "execution_count": null,
   "id": "5acacd51",
   "metadata": {},
   "outputs": [],
   "source": []
  },
  {
   "cell_type": "code",
   "execution_count": null,
   "id": "cad003f2",
   "metadata": {},
   "outputs": [],
   "source": []
  }
 ],
 "metadata": {
  "kernelspec": {
   "display_name": "Python 3",
   "language": "python",
   "name": "python3"
  },
  "language_info": {
   "codemirror_mode": {
    "name": "ipython",
    "version": 3
   },
   "file_extension": ".py",
   "mimetype": "text/x-python",
   "name": "python",
   "nbconvert_exporter": "python",
   "pygments_lexer": "ipython3",
   "version": "3.9.4"
  }
 },
 "nbformat": 4,
 "nbformat_minor": 5
}
